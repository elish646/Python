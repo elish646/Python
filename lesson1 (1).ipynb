{
 "cells": [
  {
   "cell_type": "code",
   "execution_count": 1,
   "id": "7cd95632-7c6f-4fa1-bfe3-aee604b7ab64",
   "metadata": {},
   "outputs": [
    {
     "name": "stdout",
     "output_type": "stream",
     "text": [
      "Requirement already satisfied: numpy in c:\\python310\\lib\\site-packages (1.26.4)Note: you may need to restart the kernel to use updated packages.\n"
     ]
    },
    {
     "name": "stderr",
     "output_type": "stream",
     "text": [
      "\n",
      "[notice] A new release of pip is available: 23.3.2 -> 24.0\n",
      "[notice] To update, run: python.exe -m pip install --upgrade pip\n"
     ]
    },
    {
     "name": "stdout",
     "output_type": "stream",
     "text": [
      "\n"
     ]
    }
   ],
   "source": [
    "pip install numpy"
   ]
  },
  {
   "cell_type": "code",
   "execution_count": 2,
   "id": "4d9536e0-79f9-4de6-b20e-08b967175130",
   "metadata": {},
   "outputs": [],
   "source": [
    "import numpy as np"
   ]
  },
  {
   "cell_type": "code",
   "execution_count": 7,
   "id": "b66d6342-b06b-4c86-9cd3-5e284cf0da74",
   "metadata": {},
   "outputs": [
    {
     "data": {
      "text/plain": [
       "array([36, 34,  2, 21, 22,  1, 38, 20, 39, 20])"
      ]
     },
     "execution_count": 7,
     "metadata": {},
     "output_type": "execute_result"
    }
   ],
   "source": [
    "random_int_array1 = np.random.randint(1, 50, size=(10))\n",
    "random_int_array1 "
   ]
  },
  {
   "cell_type": "code",
   "execution_count": 9,
   "id": "077e5ed4-440b-405b-8479-a4b316a4ba2d",
   "metadata": {},
   "outputs": [
    {
     "data": {
      "text/plain": [
       "10"
      ]
     },
     "execution_count": 9,
     "metadata": {},
     "output_type": "execute_result"
    }
   ],
   "source": [
    "random_int_array1.size"
   ]
  },
  {
   "cell_type": "code",
   "execution_count": 10,
   "id": "7c87c19a-6dd9-4bb1-940d-b11b0ec30904",
   "metadata": {},
   "outputs": [
    {
     "data": {
      "text/plain": [
       "dtype('int32')"
      ]
     },
     "execution_count": 10,
     "metadata": {},
     "output_type": "execute_result"
    }
   ],
   "source": [
    "random_int_array1.dtype\n"
   ]
  },
  {
   "cell_type": "code",
   "execution_count": 11,
   "id": "b62d097d-f2bf-4da4-8b3b-7dec649c3307",
   "metadata": {},
   "outputs": [
    {
     "data": {
      "text/plain": [
       "1"
      ]
     },
     "execution_count": 11,
     "metadata": {},
     "output_type": "execute_result"
    }
   ],
   "source": [
    "random_int_array1.ndim\n"
   ]
  },
  {
   "cell_type": "code",
   "execution_count": 14,
   "id": "25b2d3ee-8481-4b91-9c1f-9dfa5de5c38e",
   "metadata": {},
   "outputs": [
    {
     "data": {
      "text/plain": [
       "array([[13,  4, 93, 74, 85],\n",
       "       [24, 66, 83, 94,  1]])"
      ]
     },
     "execution_count": 14,
     "metadata": {},
     "output_type": "execute_result"
    }
   ],
   "source": [
    "random_int_array = np.random.randint(1, 100, size=(2, 5))\n",
    "random_int_array"
   ]
  },
  {
   "cell_type": "code",
   "execution_count": 15,
   "id": "4f559cd5-9600-413c-8c84-567386c71262",
   "metadata": {},
   "outputs": [
    {
     "data": {
      "text/plain": [
       "(2, 5)"
      ]
     },
     "execution_count": 15,
     "metadata": {},
     "output_type": "execute_result"
    }
   ],
   "source": [
    "random_int_array.shape"
   ]
  },
  {
   "cell_type": "code",
   "execution_count": 17,
   "id": "23384386-4c47-4914-9411-6cc805c727e6",
   "metadata": {},
   "outputs": [
    {
     "data": {
      "text/plain": [
       "23.3"
      ]
     },
     "execution_count": 17,
     "metadata": {},
     "output_type": "execute_result"
    }
   ],
   "source": [
    "np.mean(random_int_array1)"
   ]
  },
  {
   "cell_type": "code",
   "execution_count": 18,
   "id": "0f98b575-9575-4ece-bc18-bb9d13fe0e1f",
   "metadata": {},
   "outputs": [
    {
     "data": {
      "text/plain": [
       "20.95"
      ]
     },
     "execution_count": 18,
     "metadata": {},
     "output_type": "execute_result"
    }
   ],
   "source": [
    "random_int_array12 = np.random.randint(1, 50, size=(20))\n",
    "np.mean(random_int_array12)"
   ]
  },
  {
   "cell_type": "code",
   "execution_count": 19,
   "id": "13ca6ff1-de7c-46fe-9667-9b20de455a78",
   "metadata": {},
   "outputs": [
    {
     "data": {
      "text/plain": [
       "array([[83,  8, 74],\n",
       "       [70, 17, 97],\n",
       "       [32, 97, 38]])"
      ]
     },
     "execution_count": 19,
     "metadata": {},
     "output_type": "execute_result"
    }
   ],
   "source": [
    "a = np.random.randint(1, 10, size=(3, 3))\n",
    "b= np.random.randint(1, 100, size=(3, 3))\n",
    "np.add(a,b)"
   ]
  },
  {
   "cell_type": "code",
   "execution_count": 20,
   "id": "72261a60-764e-4f65-bde0-64c33e279897",
   "metadata": {},
   "outputs": [
    {
     "data": {
      "text/plain": [
       "57.333333333333336"
      ]
     },
     "execution_count": 20,
     "metadata": {},
     "output_type": "execute_result"
    }
   ],
   "source": [
    "x = np.add(a,b)\n",
    "np.mean(x)"
   ]
  },
  {
   "cell_type": "code",
   "execution_count": 21,
   "id": "aeabb2ca-bef9-4aed-9fed-cc11b3942753",
   "metadata": {},
   "outputs": [
    {
     "data": {
      "text/plain": [
       "array([94, 56, 76, 68, 73, 76, 74, 74, 58, 63, 52, 77])"
      ]
     },
     "execution_count": 21,
     "metadata": {},
     "output_type": "execute_result"
    }
   ],
   "source": [
    "c = np.random.randint(1, 100, size=(20))\n",
    "cond = c>50\n",
    "c[cond]\n"
   ]
  },
  {
   "cell_type": "code",
   "execution_count": 22,
   "id": "b7c761dc-3e37-4f7d-85d2-a5fe62070af2",
   "metadata": {},
   "outputs": [],
   "source": [
    "cd = np.random.randint(1, 10, size=(20))\n",
    "np.random.shuffle(cd)"
   ]
  },
  {
   "cell_type": "code",
   "execution_count": 27,
   "id": "021e6fff-170b-4dd1-b307-36d5e3561741",
   "metadata": {},
   "outputs": [],
   "source": [
    "cd\n",
    "np.random.shuffle(cd)"
   ]
  },
  {
   "cell_type": "code",
   "execution_count": 28,
   "id": "1dc0e549-92e3-498f-8a42-60687196e35b",
   "metadata": {},
   "outputs": [
    {
     "data": {
      "text/plain": [
       "array([5, 5, 5, 8, 2])"
      ]
     },
     "execution_count": 28,
     "metadata": {},
     "output_type": "execute_result"
    }
   ],
   "source": [
    "np.random.choice(cd , 5)"
   ]
  },
  {
   "cell_type": "code",
   "execution_count": null,
   "id": "0effc2eb-0a66-4a31-8c29-3e5226a8f28f",
   "metadata": {},
   "outputs": [],
   "source": [
    "z = "
   ]
  }
 ],
 "metadata": {
  "kernelspec": {
   "display_name": "Python 3 (ipykernel)",
   "language": "python",
   "name": "python3"
  },
  "language_info": {
   "codemirror_mode": {
    "name": "ipython",
    "version": 3
   },
   "file_extension": ".py",
   "mimetype": "text/x-python",
   "name": "python",
   "nbconvert_exporter": "python",
   "pygments_lexer": "ipython3",
   "version": "3.10.8"
  }
 },
 "nbformat": 4,
 "nbformat_minor": 5
}
